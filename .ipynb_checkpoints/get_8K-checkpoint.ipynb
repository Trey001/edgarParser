{
 "cells": [
  {
   "cell_type": "markdown",
   "metadata": {},
   "source": [
    "# 8-K form #\n",
    "  \n",
    "The notebook has three functions to parse 8-K forms. The first, *get_text()*, gets all the text from the form and returns a string. It takes the link to the form as an argument. Second, *get_items()* returns a list containing all items mentioned in the form. It takes a string as input. Finally, *get_text_item()* returns a data frame with Company name, CIK, Item, and text.  It takes a link and a string (e.g. \"Item 6\") as an argument.\n",
    "\n",
    "**Caveats:** \n",
    "Not all forms have a clear end to the text item. The script, then, takes everything until signature. Expect to do some cleaning after retrieving the content.  \n",
    "The functions below are parsers. You need to feed a SEC link into it. There are many python and r packages to get a direct link to the fillings."
   ]
  },
  {
   "cell_type": "code",
   "execution_count": null,
   "metadata": {},
   "outputs": [],
   "source": [
    "# required\n",
    "import re\n",
    "import requests\n",
    "from bs4 import BeautifulSoup as bs"
   ]
  },
  {
   "cell_type": "code",
   "execution_count": null,
   "metadata": {},
   "outputs": [],
   "source": [
    "def get_text(link):\n",
    "    page = requests.get(link)\n",
    "    html = bs(page.content, \"lxml\")\n",
    "    text = html.get_text().replace(u'\\xa0', ' ').split(\"\\n\")\n",
    "    return(text)\n",
    "\n",
    "def get_items(text):\n",
    "    item_pattern = re.compile(\"(Item\\s\\d[\\.\\d]*)\")\n",
    "    value = list()\n",
    "    text = str(text)\n",
    "    for i in item_pattern.findall(text):\n",
    "        i = re.sub(\"\\.$\", \"\", i)\n",
    "        i = i.strip()\n",
    "        if i not in value:\n",
    "            value.append(i)\n",
    "    return(value)\n",
    "\n",
    "def get_text_item(link, item):\n",
    "    page = requests.get(link)\n",
    "    html = bs(page.content, \"lxml\")\n",
    "    text = html.get_text().replace(u'\\xa0', ' ').replace(\"\\t\", \" \").replace(\"\\x92\", \"'\").split(\"\\n\")\n",
    "    company_cik = re.compile(\"(CENTRAL INDEX KEY:)([\\s\\d]+)\")\n",
    "    company_name = re.compile(\"(COMPANY CONFORMED NAME:)(.+)\")\n",
    "    item_pattern = re.compile(item, re.IGNORECASE)\n",
    "    stop = re.compile(\"SIGNATURE\", re.IGNORECASE)\n",
    "    k8_text = \"\"\n",
    "    data_dict = dict()\n",
    "    control = 0\n",
    "    for line in text:\n",
    "        if company_cik.search(line) is not None:\n",
    "            data_dict[\"cik\"] = company_cik.search(line, re.IGNORECASE).group(2).strip()\n",
    "        elif company_name.search(line) is not None:\n",
    "            data_dict[\"conm\"] = company_name.search(line).group(2).strip()\n",
    "        elif item_pattern.search(line) is not None:\n",
    "            k8_text = k8_text + \" \" + line\n",
    "            control = 1\n",
    "        elif control == 1:\n",
    "            if stop.search(line) is not None:\n",
    "                data_dict[\"text\"] = k8_text\n",
    "                control = 0\n",
    "            else:\n",
    "                k8_text = k8_text + \" \" + line\n",
    "        else:\n",
    "            pass\n",
    "    data = pd.DataFrame.from_dict([data_dict])\n",
    "    return(data)  "
   ]
  }
 ],
 "metadata": {
  "kernelspec": {
   "display_name": "Python 3",
   "language": "python",
   "name": "python3"
  },
  "language_info": {
   "codemirror_mode": {
    "name": "ipython",
    "version": 3
   },
   "file_extension": ".py",
   "mimetype": "text/x-python",
   "name": "python",
   "nbconvert_exporter": "python",
   "pygments_lexer": "ipython3",
   "version": "3.7.4"
  }
 },
 "nbformat": 4,
 "nbformat_minor": 2
}
